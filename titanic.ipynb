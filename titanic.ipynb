{
 "cells": [
  {
   "cell_type": "code",
   "execution_count": 1,
   "id": "347087a2",
   "metadata": {},
   "outputs": [],
   "source": [
    "%matplotlib inline\n",
    "import pandas as pd\n",
    "import numpy as np\n",
    "import matplotlib.pyplot as plt\n",
    "import sklearn\n",
    "import seaborn as sns"
   ]
  },
  {
   "cell_type": "code",
   "execution_count": 2,
   "id": "168e33e0",
   "metadata": {},
   "outputs": [],
   "source": [
    "titanic_data=pd.read_csv('train.csv')\n"
   ]
  },
  {
   "cell_type": "markdown",
   "id": "a790f64f",
   "metadata": {},
   "source": [
    "# Q1"
   ]
  },
  {
   "cell_type": "code",
   "execution_count": 3,
   "id": "66f9e1a3",
   "metadata": {},
   "outputs": [
    {
     "data": {
      "text/html": [
       "<div>\n",
       "<style scoped>\n",
       "    .dataframe tbody tr th:only-of-type {\n",
       "        vertical-align: middle;\n",
       "    }\n",
       "\n",
       "    .dataframe tbody tr th {\n",
       "        vertical-align: top;\n",
       "    }\n",
       "\n",
       "    .dataframe thead th {\n",
       "        text-align: right;\n",
       "    }\n",
       "</style>\n",
       "<table border=\"1\" class=\"dataframe\">\n",
       "  <thead>\n",
       "    <tr style=\"text-align: right;\">\n",
       "      <th></th>\n",
       "      <th>PassengerId</th>\n",
       "      <th>Survived</th>\n",
       "      <th>Pclass</th>\n",
       "      <th>Name</th>\n",
       "      <th>Sex</th>\n",
       "      <th>Age</th>\n",
       "      <th>SibSp</th>\n",
       "      <th>Parch</th>\n",
       "      <th>Ticket</th>\n",
       "      <th>Fare</th>\n",
       "      <th>Cabin</th>\n",
       "      <th>Embarked</th>\n",
       "    </tr>\n",
       "  </thead>\n",
       "  <tbody>\n",
       "    <tr>\n",
       "      <th>885</th>\n",
       "      <td>886</td>\n",
       "      <td>0</td>\n",
       "      <td>3</td>\n",
       "      <td>Rice, Mrs. William (Margaret Norton)</td>\n",
       "      <td>female</td>\n",
       "      <td>39.0</td>\n",
       "      <td>0</td>\n",
       "      <td>5</td>\n",
       "      <td>382652</td>\n",
       "      <td>29.125</td>\n",
       "      <td>NaN</td>\n",
       "      <td>Q</td>\n",
       "    </tr>\n",
       "    <tr>\n",
       "      <th>886</th>\n",
       "      <td>887</td>\n",
       "      <td>0</td>\n",
       "      <td>2</td>\n",
       "      <td>Montvila, Rev. Juozas</td>\n",
       "      <td>male</td>\n",
       "      <td>27.0</td>\n",
       "      <td>0</td>\n",
       "      <td>0</td>\n",
       "      <td>211536</td>\n",
       "      <td>13.000</td>\n",
       "      <td>NaN</td>\n",
       "      <td>S</td>\n",
       "    </tr>\n",
       "    <tr>\n",
       "      <th>887</th>\n",
       "      <td>888</td>\n",
       "      <td>1</td>\n",
       "      <td>1</td>\n",
       "      <td>Graham, Miss. Margaret Edith</td>\n",
       "      <td>female</td>\n",
       "      <td>19.0</td>\n",
       "      <td>0</td>\n",
       "      <td>0</td>\n",
       "      <td>112053</td>\n",
       "      <td>30.000</td>\n",
       "      <td>B42</td>\n",
       "      <td>S</td>\n",
       "    </tr>\n",
       "    <tr>\n",
       "      <th>888</th>\n",
       "      <td>889</td>\n",
       "      <td>0</td>\n",
       "      <td>3</td>\n",
       "      <td>Johnston, Miss. Catherine Helen \"Carrie\"</td>\n",
       "      <td>female</td>\n",
       "      <td>NaN</td>\n",
       "      <td>1</td>\n",
       "      <td>2</td>\n",
       "      <td>W./C. 6607</td>\n",
       "      <td>23.450</td>\n",
       "      <td>NaN</td>\n",
       "      <td>S</td>\n",
       "    </tr>\n",
       "    <tr>\n",
       "      <th>889</th>\n",
       "      <td>890</td>\n",
       "      <td>1</td>\n",
       "      <td>1</td>\n",
       "      <td>Behr, Mr. Karl Howell</td>\n",
       "      <td>male</td>\n",
       "      <td>26.0</td>\n",
       "      <td>0</td>\n",
       "      <td>0</td>\n",
       "      <td>111369</td>\n",
       "      <td>30.000</td>\n",
       "      <td>C148</td>\n",
       "      <td>C</td>\n",
       "    </tr>\n",
       "    <tr>\n",
       "      <th>890</th>\n",
       "      <td>891</td>\n",
       "      <td>0</td>\n",
       "      <td>3</td>\n",
       "      <td>Dooley, Mr. Patrick</td>\n",
       "      <td>male</td>\n",
       "      <td>32.0</td>\n",
       "      <td>0</td>\n",
       "      <td>0</td>\n",
       "      <td>370376</td>\n",
       "      <td>7.750</td>\n",
       "      <td>NaN</td>\n",
       "      <td>Q</td>\n",
       "    </tr>\n",
       "  </tbody>\n",
       "</table>\n",
       "</div>"
      ],
      "text/plain": [
       "     PassengerId  Survived  Pclass                                      Name  \\\n",
       "885          886         0       3      Rice, Mrs. William (Margaret Norton)   \n",
       "886          887         0       2                     Montvila, Rev. Juozas   \n",
       "887          888         1       1              Graham, Miss. Margaret Edith   \n",
       "888          889         0       3  Johnston, Miss. Catherine Helen \"Carrie\"   \n",
       "889          890         1       1                     Behr, Mr. Karl Howell   \n",
       "890          891         0       3                       Dooley, Mr. Patrick   \n",
       "\n",
       "        Sex   Age  SibSp  Parch      Ticket    Fare Cabin Embarked  \n",
       "885  female  39.0      0      5      382652  29.125   NaN        Q  \n",
       "886    male  27.0      0      0      211536  13.000   NaN        S  \n",
       "887  female  19.0      0      0      112053  30.000   B42        S  \n",
       "888  female   NaN      1      2  W./C. 6607  23.450   NaN        S  \n",
       "889    male  26.0      0      0      111369  30.000  C148        C  \n",
       "890    male  32.0      0      0      370376   7.750   NaN        Q  "
      ]
     },
     "execution_count": 3,
     "metadata": {},
     "output_type": "execute_result"
    }
   ],
   "source": [
    "\n",
    "\n",
    "titanic_data.tail(6)\n",
    "\n"
   ]
  },
  {
   "cell_type": "markdown",
   "id": "27119603",
   "metadata": {},
   "source": [
    "The last six passenger's informations in Titanic dataset."
   ]
  },
  {
   "cell_type": "markdown",
   "id": "2cc776aa",
   "metadata": {},
   "source": [
    "# Q2"
   ]
  },
  {
   "cell_type": "code",
   "execution_count": 4,
   "id": "b71004e3",
   "metadata": {},
   "outputs": [
    {
     "data": {
      "text/plain": [
       "Index(['PassengerId', 'Survived', 'Pclass', 'Name', 'Sex', 'Age', 'SibSp',\n",
       "       'Parch', 'Ticket', 'Fare', 'Cabin', 'Embarked'],\n",
       "      dtype='object')"
      ]
     },
     "execution_count": 4,
     "metadata": {},
     "output_type": "execute_result"
    }
   ],
   "source": [
    "\n",
    "titanic_data.columns"
   ]
  },
  {
   "cell_type": "markdown",
   "id": "2de2a26f",
   "metadata": {},
   "source": [
    "List of all attributes(column titles)"
   ]
  },
  {
   "cell_type": "markdown",
   "id": "7ea6915e",
   "metadata": {},
   "source": [
    "# Q3 "
   ]
  },
  {
   "cell_type": "code",
   "execution_count": 5,
   "id": "a7932038",
   "metadata": {},
   "outputs": [
    {
     "data": {
      "text/plain": [
       "(891, 12)"
      ]
     },
     "execution_count": 5,
     "metadata": {},
     "output_type": "execute_result"
    }
   ],
   "source": [
    "\n",
    "titanic_data.shape\n"
   ]
  },
  {
   "cell_type": "markdown",
   "id": "67517256",
   "metadata": {},
   "source": [
    "Number of rows and columns"
   ]
  },
  {
   "cell_type": "code",
   "execution_count": 6,
   "id": "1ce5cbf3",
   "metadata": {},
   "outputs": [
    {
     "name": "stdout",
     "output_type": "stream",
     "text": [
      "Size = 10692\n",
      "Dimension=2\n"
     ]
    }
   ],
   "source": [
    "\n",
    "\n",
    "size=titanic_data.size\n",
    "print(\"Size = {}\".format(size))\n",
    "dimension=titanic_data.ndim\n",
    "print(\"Dimension={}\".format(dimension))\n"
   ]
  },
  {
   "cell_type": "markdown",
   "id": "b7da8b70",
   "metadata": {},
   "source": [
    "Size and dimension of titanic dataset."
   ]
  },
  {
   "cell_type": "markdown",
   "id": "03aeddc8",
   "metadata": {},
   "source": [
    "# Q4"
   ]
  },
  {
   "cell_type": "code",
   "execution_count": 7,
   "id": "d36068e6",
   "metadata": {},
   "outputs": [
    {
     "data": {
      "text/plain": [
       "PassengerId      0\n",
       "Survived         0\n",
       "Pclass           0\n",
       "Name             0\n",
       "Sex              0\n",
       "Age            177\n",
       "SibSp            0\n",
       "Parch            0\n",
       "Ticket           0\n",
       "Fare             0\n",
       "Cabin          687\n",
       "Embarked         2\n",
       "dtype: int64"
      ]
     },
     "execution_count": 7,
     "metadata": {},
     "output_type": "execute_result"
    }
   ],
   "source": [
    "\n",
    "\n",
    "titanic_data.isnull().sum()"
   ]
  },
  {
   "cell_type": "markdown",
   "id": "2508f3cc",
   "metadata": {},
   "source": [
    "List of missing values. Cabin column has 687 missing values. "
   ]
  },
  {
   "cell_type": "markdown",
   "id": "392d0444",
   "metadata": {},
   "source": [
    "# Q5"
   ]
  },
  {
   "cell_type": "code",
   "execution_count": 8,
   "id": "406ba8e2",
   "metadata": {},
   "outputs": [
    {
     "data": {
      "image/png": "[encoded data removed]",
      "text/plain": [
       "<Figure size 432x288 with 1 Axes>"
      ]
     },
     "metadata": {},
     "output_type": "display_data"
    }
   ],
   "source": [
    "\n",
    "First = (titanic_data.Pclass==1).sum()\n",
    "Second = (titanic_data.Pclass==2).sum()\n",
    "Third = (titanic_data.Pclass==3).sum()\n",
    "\n",
    "proportions=[First,Second,Third]\n",
    "\n",
    "plt.pie(\n",
    "    \n",
    "    proportions,\n",
    "    \n",
    "    labels=['First','Second','Third'],\n",
    "    \n",
    "    shadow=False,\n",
    "    \n",
    "    colors=['orange','red','blue'],\n",
    "    \n",
    "    startangle = 90,\n",
    "    \n",
    "    autopct= ' %1.1f%% ' \n",
    "   \n",
    ")\n",
    "\n",
    "plt.axis('equal')\n",
    "plt.title(\"Class Bilgileri\")\n",
    "\n",
    "plt.tight_layout()\n",
    "plt.show()"
   ]
  },
  {
   "cell_type": "markdown",
   "id": "b39e860a",
   "metadata": {},
   "source": [
    "A pie chart which shows the percentage of the passengers that were traveling\n",
    "in the 1st, 2nd and 3rd classes. As is seen 3rd class has more passengers from other classes."
   ]
  },
  {
   "cell_type": "markdown",
   "id": "ee826f1b",
   "metadata": {},
   "source": [
    "# Q6"
   ]
  },
  {
   "cell_type": "code",
   "execution_count": 9,
   "id": "735371ac",
   "metadata": {},
   "outputs": [
    {
     "data": {
      "text/plain": [
       "Text(0.5, 1.0, '1 = Survived 0 = Not Survived')"
      ]
     },
     "execution_count": 9,
     "metadata": {},
     "output_type": "execute_result"
    },
    {
     "data": {
      "image/png": "[encoded data removed]",
      "text/plain": [
       "<Figure size 432x288 with 1 Axes>"
      ]
     },
     "metadata": {
      "needs_background": "light"
     },
     "output_type": "display_data"
    }
   ],
   "source": [
    "\n",
    "titanic_data.Survived.value_counts().plot(kind='bar')\n",
    "plt.title(\"1 = Survived 0 = Not Survived\")\n",
    "\n"
   ]
  },
  {
   "cell_type": "markdown",
   "id": "88fd96dd",
   "metadata": {},
   "source": [
    "A bar chart that shows the number of passengers who survived and who did not survive. Looking at the bar chart, we can say\n",
    "most of the passengers died."
   ]
  },
  {
   "cell_type": "markdown",
   "id": "47015ea3",
   "metadata": {},
   "source": [
    "# Q7"
   ]
  },
  {
   "cell_type": "code",
   "execution_count": 10,
   "id": "2669fd66",
   "metadata": {},
   "outputs": [
    {
     "data": {
      "image/png": "[encoded data removed]",
      "text/plain": [
       "<Figure size 432x288 with 3 Axes>"
      ]
     },
     "metadata": {},
     "output_type": "display_data"
    }
   ],
   "source": [
    "\n",
    "pc1 = titanic_data[titanic_data[\"Pclass\"]==1]\n",
    "pc2 = titanic_data[titanic_data[\"Pclass\"]==2]\n",
    "pc3 = titanic_data[titanic_data[\"Pclass\"]==3]\n",
    "\n",
    "t1_1 = pc1[pc1[\"Survived\"]==1][\"PassengerId\"].size\n",
    "t1_0 = pc1[pc1[\"Survived\"]==0][\"PassengerId\"].size\n",
    "t2_1 = pc2[pc2[\"Survived\"]==1][\"PassengerId\"].size\n",
    "t2_0 = pc2[pc2[\"Survived\"]==0][\"PassengerId\"].size\n",
    "t3_1 = pc3[pc3[\"Survived\"]==1][\"PassengerId\"].size\n",
    "t3_0 = pc3[pc3[\"Survived\"]==0][\"PassengerId\"].size\n",
    "\n",
    "\n",
    "t1_0 = t1_0/(t1_1+t1_0)*100\n",
    "t1_1= 100-t1_0\n",
    "\n",
    "t2_0 = t2_0/(t2_1+t2_0)*100\n",
    "t2_1=100-t2_0\n",
    "t3_0 = t3_0/(t3_1+t3_0)*100\n",
    "t3_1=100-t3_0\n",
    "\n",
    "fig1,(ax1,ax2,ax3)=plt.subplots(1,3)\n",
    "labels=[\"Survived\",\"NotSurvived\"]\n",
    "ax1.pie([t1_1,t1_0],labels=labels,autopct=\"%.0f%%\",startangle = 120)\n",
    "ax1.set_title(\"Class1\")\n",
    "ax2.pie([t2_1,t2_0],labels=labels,autopct=\"%.0f%%\")\n",
    "ax2.set_title(\"Class2\")\n",
    "ax3.pie([t3_1,t3_0],labels=labels,autopct=\"%.0f%%\",startangle=90)\n",
    "ax3.set_title(\"Class3\")\n",
    "plt.show()\n",
    "\n"
   ]
  },
  {
   "cell_type": "markdown",
   "id": "ffe2dc67",
   "metadata": {},
   "source": [
    "A bar chart that shows the percentage of passengers for each ticket class who survived and not survive. As can be seen, most of the passengers in the first class survived.On the other hand, most of the passengers in the third class died. \n",
    "I think this is because people with first class tickets pay more.\n",
    "\n",
    "\n"
   ]
  },
  {
   "cell_type": "markdown",
   "id": "2a402bc0",
   "metadata": {},
   "source": [
    "# Q8"
   ]
  },
  {
   "cell_type": "code",
   "execution_count": 11,
   "id": "9110be0e",
   "metadata": {},
   "outputs": [
    {
     "data": {
      "image/png": "[encoded data removed]",
      "text/plain": [
       "<Figure size 432x288 with 1 Axes>"
      ]
     },
     "metadata": {
      "needs_background": "light"
     },
     "output_type": "display_data"
    }
   ],
   "source": [
    "\n",
    "\n",
    "class3=titanic_data[titanic_data[\"Pclass\"]==3]\n",
    "class2=titanic_data[titanic_data[\"Pclass\"]==2]\n",
    "class1=titanic_data[titanic_data[\"Pclass\"]==1]\n",
    "\n",
    "three1=class3[class3[\"Survived\"]==1][\"PassengerId\"].size\n",
    "three0=class3[class3[\"Survived\"]==0][\"PassengerId\"].size\n",
    "two1=class2[class2[\"Survived\"]==1][\"PassengerId\"].size\n",
    "two0=class2[class2[\"Survived\"]==0][\"PassengerId\"].size\n",
    "one1=class1[class1[\"Survived\"]==1][\"PassengerId\"].size\n",
    "one0=class1[class1[\"Survived\"]==0][\"PassengerId\"].size\n",
    "\n",
    "one0=one0/(one0+one1)*100\n",
    "one1=100-one0\n",
    "two0=two0/(two0+two1)*100\n",
    "two1=100-two0\n",
    "three0=three0/(three0+three1)*100\n",
    "three1=100-three0\n",
    "\n",
    "listdead=[one0,two0,three0]\n",
    "listlive =[one1,two1,three1]\n",
    "\n",
    "listclass=[\"Class1\",\"Class2\",\"Class3\"]\n",
    "\n",
    "plt.bar(listclass,listdead)\n",
    "plt.bar(listclass,listlive,bottom = listdead,color=\"green\")\n",
    "plt.legend([\"dead\",\"live\"])\n",
    "plt.show()"
   ]
  },
  {
   "cell_type": "markdown",
   "id": "7201b309",
   "metadata": {},
   "source": [
    " A bar chart that shows the survival rates of each ticket class. As it is seen Class1 has highest survival rate.  As explained in the previous question, those who paid more had an advantage over the others."
   ]
  },
  {
   "cell_type": "markdown",
   "id": "2a83a393",
   "metadata": {},
   "source": [
    "# Q9"
   ]
  },
  {
   "cell_type": "code",
   "execution_count": 12,
   "id": "3a9511eb",
   "metadata": {},
   "outputs": [
    {
     "data": {
      "text/html": [
       "<div>\n",
       "<style scoped>\n",
       "    .dataframe tbody tr th:only-of-type {\n",
       "        vertical-align: middle;\n",
       "    }\n",
       "\n",
       "    .dataframe tbody tr th {\n",
       "        vertical-align: top;\n",
       "    }\n",
       "\n",
       "    .dataframe thead th {\n",
       "        text-align: right;\n",
       "    }\n",
       "</style>\n",
       "<table border=\"1\" class=\"dataframe\">\n",
       "  <thead>\n",
       "    <tr style=\"text-align: right;\">\n",
       "      <th>Survived</th>\n",
       "      <th>0</th>\n",
       "      <th>1</th>\n",
       "      <th>All</th>\n",
       "    </tr>\n",
       "    <tr>\n",
       "      <th>Sex</th>\n",
       "      <th></th>\n",
       "      <th></th>\n",
       "      <th></th>\n",
       "    </tr>\n",
       "  </thead>\n",
       "  <tbody>\n",
       "    <tr>\n",
       "      <th>female</th>\n",
       "      <td>81</td>\n",
       "      <td>233</td>\n",
       "      <td>314</td>\n",
       "    </tr>\n",
       "    <tr>\n",
       "      <th>male</th>\n",
       "      <td>468</td>\n",
       "      <td>109</td>\n",
       "      <td>577</td>\n",
       "    </tr>\n",
       "    <tr>\n",
       "      <th>All</th>\n",
       "      <td>549</td>\n",
       "      <td>342</td>\n",
       "      <td>891</td>\n",
       "    </tr>\n",
       "  </tbody>\n",
       "</table>\n",
       "</div>"
      ],
      "text/plain": [
       "Survived    0    1  All\n",
       "Sex                    \n",
       "female     81  233  314\n",
       "male      468  109  577\n",
       "All       549  342  891"
      ]
     },
     "execution_count": 12,
     "metadata": {},
     "output_type": "execute_result"
    }
   ],
   "source": [
    "# Cinsiyetlere göre hayatta kalma sayıları crosstable' da gösterilmiştir\n",
    "\n",
    "pd.crosstab(titanic_data.Sex, titanic_data.Survived, margins=True)"
   ]
  },
  {
   "cell_type": "markdown",
   "id": "422982b4",
   "metadata": {},
   "source": [
    "A cross table showing survival numbers by age and gender. Women have the highest survival rate. Men have the lowest survival rate.\n",
    "\n",
    "Women survival rate = 233/314 = %72.2 \n",
    "\n",
    "Men survival rate = 109/577 = %18,89\n"
   ]
  },
  {
   "cell_type": "markdown",
   "id": "6e0f5a94",
   "metadata": {},
   "source": [
    "# Q10"
   ]
  },
  {
   "cell_type": "code",
   "execution_count": 13,
   "id": "3d15e5c1",
   "metadata": {
    "scrolled": true
   },
   "outputs": [
    {
     "data": {
      "image/png": "[encoded data removed]",
      "text/plain": [
       "<Figure size 432x288 with 1 Axes>"
      ]
     },
     "metadata": {
      "needs_background": "light"
     },
     "output_type": "display_data"
    }
   ],
   "source": [
    "titanic_data2 = titanic_data.dropna(subset=[\"Embarked\"])\n",
    "s_Q = titanic_data2[(titanic_data2[\"Survived\"]==1) &(titanic_data2[\"Embarked\"]==\"Q\")][\"Embarked\"].count()\n",
    "s_S = titanic_data2[(titanic_data2[\"Survived\"]==1) &(titanic_data2[\"Embarked\"]==\"S\")][\"Embarked\"].count()\n",
    "s_C = titanic_data2[(titanic_data2[\"Survived\"]==1) &(titanic_data2[\"Embarked\"]==\"C\")][\"Embarked\"].count()\n",
    "\n",
    "Q = titanic_data2[(titanic_data2[\"Embarked\"]==\"Q\")][\"Embarked\"].count()\n",
    "S = titanic_data2[(titanic_data2[\"Embarked\"]==\"S\")][\"Embarked\"].count()\n",
    "C = titanic_data2[(titanic_data2[\"Embarked\"]==\"C\")][\"Embarked\"].count()\n",
    "\n",
    "labels = [\"Q\",\"S\",\"C\"]\n",
    "survived = [s_Q,s_S,s_C]\n",
    "dead =[ (Q-s_Q), (S-s_S), (C-s_C)]\n",
    "\n",
    "x = np.arange(3)+1\n",
    "fig,ax = plt.subplots()\n",
    "rects1 = ax.bar(x-0.2, survived ,0.4 ,label='1')\n",
    "rects2 = ax.bar(x+0.2, dead     ,0.4 ,label='0')\n",
    "\n",
    "plt.xticks(x,['Queenstown','Southampton','Cherbourg'])\n",
    "ax.set_title('Survivals according to Embarked')\n",
    "plt.legend()\n",
    "plt.show()"
   ]
  },
  {
   "cell_type": "markdown",
   "id": "d4d5b9fc",
   "metadata": {},
   "source": [
    "A bar chart that shows the number of passengers who survived and didn’t \n",
    "survive for each Port of Embarkation.Most of the passengers embarked from Southampton port. Most passengers embarked from Southampton could have 3rd tickets. Because most of them died."
   ]
  },
  {
   "cell_type": "markdown",
   "id": "7a5b4774",
   "metadata": {},
   "source": [
    "# Q11"
   ]
  },
  {
   "cell_type": "code",
   "execution_count": 14,
   "id": "917bd515",
   "metadata": {},
   "outputs": [
    {
     "data": {
      "text/html": [
       "<div>\n",
       "<style scoped>\n",
       "    .dataframe tbody tr th:only-of-type {\n",
       "        vertical-align: middle;\n",
       "    }\n",
       "\n",
       "    .dataframe tbody tr th {\n",
       "        vertical-align: top;\n",
       "    }\n",
       "\n",
       "    .dataframe thead th {\n",
       "        text-align: right;\n",
       "    }\n",
       "</style>\n",
       "<table border=\"1\" class=\"dataframe\">\n",
       "  <thead>\n",
       "    <tr style=\"text-align: right;\">\n",
       "      <th></th>\n",
       "      <th>group</th>\n",
       "      <th>adult</th>\n",
       "      <th>child</th>\n",
       "      <th>old</th>\n",
       "      <th>All</th>\n",
       "    </tr>\n",
       "    <tr>\n",
       "      <th>Sex</th>\n",
       "      <th>Survived</th>\n",
       "      <th></th>\n",
       "      <th></th>\n",
       "      <th></th>\n",
       "      <th></th>\n",
       "    </tr>\n",
       "  </thead>\n",
       "  <tbody>\n",
       "    <tr>\n",
       "      <th rowspan=\"2\" valign=\"top\">female</th>\n",
       "      <th>0</th>\n",
       "      <td>42</td>\n",
       "      <td>22</td>\n",
       "      <td>0</td>\n",
       "      <td>64</td>\n",
       "    </tr>\n",
       "    <tr>\n",
       "      <th>1</th>\n",
       "      <td>147</td>\n",
       "      <td>46</td>\n",
       "      <td>4</td>\n",
       "      <td>197</td>\n",
       "    </tr>\n",
       "    <tr>\n",
       "      <th rowspan=\"2\" valign=\"top\">male</th>\n",
       "      <th>0</th>\n",
       "      <td>294</td>\n",
       "      <td>47</td>\n",
       "      <td>19</td>\n",
       "      <td>360</td>\n",
       "    </tr>\n",
       "    <tr>\n",
       "      <th>1</th>\n",
       "      <td>66</td>\n",
       "      <td>24</td>\n",
       "      <td>3</td>\n",
       "      <td>93</td>\n",
       "    </tr>\n",
       "    <tr>\n",
       "      <th>All</th>\n",
       "      <th></th>\n",
       "      <td>549</td>\n",
       "      <td>139</td>\n",
       "      <td>26</td>\n",
       "      <td>714</td>\n",
       "    </tr>\n",
       "  </tbody>\n",
       "</table>\n",
       "</div>"
      ],
      "text/plain": [
       "group            adult  child  old  All\n",
       "Sex    Survived                        \n",
       "female 0            42     22    0   64\n",
       "       1           147     46    4  197\n",
       "male   0           294     47   19  360\n",
       "       1            66     24    3   93\n",
       "All                549    139   26  714"
      ]
     },
     "execution_count": 14,
     "metadata": {},
     "output_type": "execute_result"
    }
   ],
   "source": [
    " \n",
    "group=[]\n",
    "\n",
    "titanic_data1=titanic_data.dropna(subset=[\"Age\"])\n",
    "for i in range(titanic_data1[\"Age\"].size):\n",
    "    if(list(titanic_data1[\"Age\"])[i]<=18):\n",
    "        group.append(\"child\")\n",
    "    elif((list(titanic_data1[\"Age\"])[i]>18)&(list(titanic_data1[\"Age\"])[i]<60)):\n",
    "        group.append(\"adult\")\n",
    "    else:\n",
    "        group.append(\"old\")\n",
    "\n",
    "titanic_data2=titanic_data1.loc[:,[\"Sex\",\"Survived\"]]\n",
    "titanic_data2[\"group\"]=group\n",
    "\n",
    "\n",
    "pd.crosstab([titanic_data2.Sex,titanic_data2.Survived],titanic_data2.group,margins=True)           \n",
    "\n"
   ]
  },
  {
   "cell_type": "markdown",
   "id": "327ab4b7",
   "metadata": {},
   "source": [
    "Similar to Q9 but age group information is added. Child have highest survival rate. Because women and children got on the lifeboats first.\n",
    "\n",
    "Child survival rate = 70 / 139 = 50,35"
   ]
  },
  {
   "cell_type": "markdown",
   "id": "18b1df81",
   "metadata": {},
   "source": [
    "# Q12"
   ]
  },
  {
   "cell_type": "code",
   "execution_count": 15,
   "id": "cf8803f5",
   "metadata": {},
   "outputs": [
    {
     "data": {
      "image/png": "[encoded data removed]",
      "text/plain": [
       "<Figure size 432x288 with 2 Axes>"
      ]
     },
     "metadata": {
      "needs_background": "light"
     },
     "output_type": "display_data"
    }
   ],
   "source": [
    "titanic_data2 = titanic_data.dropna(subset=[\"Age\"])\n",
    "titanic_data2=titanic_data.drop([\"Parch\",\"Age\",\"PassengerId\",\"SibSp\"],axis=1)\n",
    "\n",
    "titanic_data2['Sex'] = titanic_data2['Sex'].replace(regex='female', value=1)\n",
    "titanic_data2['Sex'] = titanic_data2['Sex'].replace(regex='male', value=0)\n",
    "heatmap =sns.heatmap(titanic_data2.corr()[['Survived']].sort_values(by='Survived',ascending=False), vmin=-1, vmax=1, annot=True)"
   ]
  },
  {
   "cell_type": "markdown",
   "id": "2fc32f6c",
   "metadata": {},
   "source": [
    "The most strongest common attributes of surviving passengers. "
   ]
  },
  {
   "cell_type": "markdown",
   "id": "b865cc69",
   "metadata": {},
   "source": [
    "# Q13"
   ]
  },
  {
   "cell_type": "code",
   "execution_count": 16,
   "id": "439931f4",
   "metadata": {},
   "outputs": [
    {
     "data": {
      "text/plain": [
       "Mr.    517\n",
       "dtype: int64"
      ]
     },
     "execution_count": 16,
     "metadata": {},
     "output_type": "execute_result"
    }
   ],
   "source": [
    "temp = list(titanic_data.Name)\n",
    "temp = [i.replace(\"(\",\"\").replace(\")\",\"\").replace(\"'\",\"\").split() for i in temp]\n",
    "temp2 =[]\n",
    "\n",
    "for i in temp:\n",
    "  for j in i:\n",
    "        temp2.append(j)\n",
    "temp3 = pd.Series(temp2)\n",
    "temp3.value_counts().head(1)"
   ]
  },
  {
   "cell_type": "markdown",
   "id": "3b74368f",
   "metadata": {},
   "source": [
    "It is most commonly used title. There are 517 people with the title of Mr."
   ]
  },
  {
   "cell_type": "markdown",
   "id": "1eb490fa",
   "metadata": {},
   "source": [
    "# Q14"
   ]
  },
  {
   "cell_type": "code",
   "execution_count": 17,
   "id": "4f15715d",
   "metadata": {},
   "outputs": [
    {
     "data": {
      "text/plain": [
       " Mr              517\n",
       " Miss            182\n",
       " Mrs             125\n",
       " Master           40\n",
       " Dr                7\n",
       " Rev               6\n",
       " Col               2\n",
       " Major             2\n",
       " Mlle              2\n",
       " the Countess      1\n",
       " Sir               1\n",
       " Mme               1\n",
       " Ms                1\n",
       " Capt              1\n",
       " Lady              1\n",
       " Jonkheer          1\n",
       " Don               1\n",
       "Name: Name, dtype: int64"
      ]
     },
     "execution_count": 17,
     "metadata": {},
     "output_type": "execute_result"
    }
   ],
   "source": [
    "\n",
    "temp=titanic_data[\"Surname\"] = titanic_data[\"Name\"].str.split(\",\").str.get(1)\n",
    "temp.str.split(\".\").str.get(0).value_counts()"
   ]
  },
  {
   "cell_type": "markdown",
   "id": "3079f4b9",
   "metadata": {},
   "source": [
    "All distinct titles are used in Name column."
   ]
  },
  {
   "cell_type": "markdown",
   "id": "7fc1f054",
   "metadata": {},
   "source": [
    "# Q15"
   ]
  },
  {
   "cell_type": "code",
   "execution_count": 18,
   "id": "57ba6f9d",
   "metadata": {},
   "outputs": [
    {
     "data": {
      "text/plain": [
       "Age    29.699118\n",
       "dtype: float64"
      ]
     },
     "execution_count": 18,
     "metadata": {},
     "output_type": "execute_result"
    }
   ],
   "source": [
    "\n",
    "titanic_data3 = titanic_data.dropna(subset=[\"Age\"]) \n",
    "titanic_data3[[\"Age\"]].mean()\n"
   ]
  },
  {
   "cell_type": "markdown",
   "id": "4a1385b8",
   "metadata": {},
   "source": [
    "The average age of the passengers."
   ]
  },
  {
   "cell_type": "markdown",
   "id": "021c390f",
   "metadata": {},
   "source": [
    "# Q16"
   ]
  },
  {
   "cell_type": "code",
   "execution_count": 19,
   "id": "f734f3b9",
   "metadata": {},
   "outputs": [
    {
     "data": {
      "image/png": "[encoded data removed]",
      "text/plain": [
       "<Figure size 432x288 with 1 Axes>"
      ]
     },
     "metadata": {
      "needs_background": "light"
     },
     "output_type": "display_data"
    }
   ],
   "source": [
    "strip = sns.stripplot(x=\"Survived\",y=\"Age\",data=titanic_data)"
   ]
  },
  {
   "cell_type": "markdown",
   "id": "ca0e1f6c",
   "metadata": {},
   "source": [
    "Strip chart showing the age distribution of the deceased and the survivors.\n"
   ]
  },
  {
   "cell_type": "markdown",
   "id": "cc2af86b",
   "metadata": {},
   "source": [
    "# Q17"
   ]
  },
  {
   "cell_type": "code",
   "execution_count": 20,
   "id": "94e48b09",
   "metadata": {},
   "outputs": [
    {
     "data": {
      "text/plain": [
       "80.0"
      ]
     },
     "execution_count": 20,
     "metadata": {},
     "output_type": "execute_result"
    }
   ],
   "source": [
    "\n",
    "oldest = titanic_data[titanic_data[\"Survived\"]==1]\n",
    "oldest[\"Age\"].max()"
   ]
  },
  {
   "cell_type": "markdown",
   "id": "31b44938",
   "metadata": {},
   "source": [
    "The oldest person's age who survivor in passengers."
   ]
  },
  {
   "cell_type": "markdown",
   "id": "443f9df5",
   "metadata": {},
   "source": [
    "# Q18-Q19"
   ]
  },
  {
   "cell_type": "code",
   "execution_count": 21,
   "id": "979d3a2e",
   "metadata": {},
   "outputs": [
    {
     "data": {
      "image/png": "[encoded data removed]",
      "text/plain": [
       "<Figure size 432x288 with 3 Axes>"
      ]
     },
     "metadata": {},
     "output_type": "display_data"
    }
   ],
   "source": [
    "agegroup=[]\n",
    "\n",
    "titanic_data1=titanic_data.dropna(subset=[\"Age\"])\n",
    "for i in range(titanic_data1[\"Age\"].size):\n",
    "    if(list(titanic_data1[\"Age\"])[i]<19):\n",
    "        agegroup.append(\"child\")\n",
    "    elif((list(titanic_data1[\"Age\"])[i]>18)&(list(titanic_data1[\"Age\"])[i]<61)):\n",
    "        agegroup.append(\"adult\")\n",
    "    else:\n",
    "        agegroup.append(\"old\")\n",
    "\n",
    "titanic_data2 = titanic_data1.loc[:,[\"Sex\",\"Survived\"]]\n",
    "titanic_data2[\"agegroup\"]=agegroup\n",
    "\n",
    "child1 = titanic_data2[(titanic_data2[\"agegroup\"]==\"child\")&(titanic_data2[\"Survived\"]==1)]\n",
    "child2 = child1[\"Sex\"].size\n",
    "\n",
    "c1 = titanic_data2[(titanic_data2[\"agegroup\"]==\"child\")&(titanic_data2[\"Survived\"]==0)]\n",
    "c2 = c1[\"Sex\"].size\n",
    "\n",
    "adult1 = titanic_data2[(titanic_data2[\"agegroup\"]==\"adult\")&(titanic_data2[\"Survived\"]==1)]\n",
    "adult2 = adult1[\"Sex\"].size\n",
    "\n",
    "a1 = titanic_data2[(titanic_data2[\"agegroup\"]==\"adult\")&(titanic_data2[\"Survived\"]==0)]\n",
    "a2 = a1[\"Sex\"].size\n",
    "\n",
    "old1 = titanic_data2[(titanic_data2[\"agegroup\"]==\"old\")&(titanic_data2[\"Survived\"]==1)]\n",
    "old2 = old1[\"Sex\"].size\n",
    "\n",
    "o1 = titanic_data2[(titanic_data2[\"agegroup\"]==\"old\")&(titanic_data2[\"Survived\"]==0)]\n",
    "o2 = o1[\"Sex\"].size\n",
    "\n",
    "\n",
    "proportions=[child1,c1]\n",
    "\n",
    "\n",
    "fig1,(ax1,ax2,ax3)=plt.subplots(1,3)\n",
    "labels=[\"Survived\",\"Not Survived\"]\n",
    "ax1.pie([child2,c2],labels=labels,autopct=\"%1.1f%%\",startangle = 180)\n",
    "ax1.set_title(\"Child\")\n",
    "ax2.pie([adult2,a2],labels=labels,autopct=\"%1.1f%%\",startangle = 30)\n",
    "ax2.set_title(\"Adult\")\n",
    "\n",
    "ax3.pie([old2,o2],labels=labels,autopct=\"%1.1f%%\",startangle = 100)\n",
    "ax3.set_title(\"Old\")\n",
    "\n",
    "\n",
    "\n",
    "plt.show()\n",
    "\n",
    " "
   ]
  },
  {
   "cell_type": "markdown",
   "id": "d9e0a30f",
   "metadata": {},
   "source": [
    "\n",
    "There are 3 pie charts in this answer.Child, adult and old. Survival rates are shown in each pie chart. As can be seen, children have the highest survival rate. On the other hand, the majority of elderly people died. \n",
    "This is because first priority was given to women and children.\n"
   ]
  },
  {
   "cell_type": "markdown",
   "id": "e7d8036d",
   "metadata": {},
   "source": [
    "# Q20"
   ]
  },
  {
   "cell_type": "code",
   "execution_count": 22,
   "id": "2bdbaff2",
   "metadata": {},
   "outputs": [
    {
     "name": "stdout",
     "output_type": "stream",
     "text": [
      "8\n"
     ]
    }
   ],
   "source": [
    "# Yolcular arasında en fazla kardeşe sahip olan kişinin 8 kardeşi vardır.\n",
    "\n",
    "temp=titanic_data[\"SibSp\"].max();\n",
    "print(temp);"
   ]
  },
  {
   "cell_type": "markdown",
   "id": "4dbc1d71",
   "metadata": {},
   "source": [
    "The person with the most siblings among the passengers has 8 siblings.\n"
   ]
  }
 ],
 "metadata": {
  "kernelspec": {
   "display_name": "Python 3",
   "language": "python",
   "name": "python3"
  },
  "language_info": {
   "codemirror_mode": {
    "name": "ipython",
    "version": 3
   },
   "file_extension": ".py",
   "mimetype": "text/x-python",
   "name": "python",
   "nbconvert_exporter": "python",
   "pygments_lexer": "ipython3",
   "version": "3.8.8"
  }
 },
 "nbformat": 4,
 "nbformat_minor": 5
}
